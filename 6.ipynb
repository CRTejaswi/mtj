{
 "cells": [
  {
   "cell_type": "markdown",
   "id": "26093118",
   "metadata": {},
   "source": [
    "    Copyright(c) 2022-\n",
    "    Author: Chaitanya Tejaswi (github.com/CRTejaswi)    License: GPLv3.0+"
   ]
  },
  {
   "cell_type": "markdown",
   "id": "951c6b96",
   "metadata": {},
   "source": [
    "# SPICE Simulations: Magnetoresistance of a SpinValve"
   ]
  },
  {
   "cell_type": "code",
   "execution_count": null,
   "id": "c469cc08",
   "metadata": {},
   "outputs": [],
   "source": [
    "clc; clear all; close all;\n",
    "\n",
    "%Constants (all MKS, except energy which is in eV)\n",
    "q=1.6e-19;Z=zeros(2,2);\n",
    "\n",
    "% Parameters\n",
    "% note: R => rho*lambda_sf/A; L => L/lambda_sf\n",
    "ii=0;\n",
    "for X=-5:0.1:5\n",
    "   ii=ii+1; RT(ii)=X; RT1=10^X; RT2=10^X;% Tunnel Resistance\n",
    "   PT1=0.2; PT2=0.2;% Polarization of Tunnel Contacts\n",
    "   RF=1e-2; LF1=100; LF2=100; PF1=0.05; PF2=0.05;% Ferromagnetic contacts\n",
    "   RN=1; LN1=100; LN2=1e-3; LN3=100;% Nonmagnetic Channel\n",
    "\n",
    "  % FM layers\n",
    "  G_FM1 = ((1/RF/LF1)*[1 PF1;PF1 PF1*PF1])+(((1-PF1*PF1)/RF)*[0 0; 0 ...\n",
    "            csch(LF1)]);\n",
    "  G_FM2 = ((1/RF/LF2)*[1 PF2;PF2 PF2*PF2])+(((1-PF2*PF2)/RF)*[0 0; 0 ...\n",
    "            csch(LF2)]);\n",
    "  G0_FM1 = ((1-PF1*PF1)/RF)*[0 0;0 coth(LF1)-csch(LF1)];\n",
    "  G0_FM2 = ((1-PF2*PF2)/RF)*[0 0;0 coth(LF2)-csch(LF2)];\n",
    "\n",
    "  % NM channel\n",
    "  G_NM1 = (1/RN/LN1)*[1 0;0 LN1*csch(LN1)];\n",
    "  G_NM2 = (1/RN/LN2)*[1 0;0 LN2*csch(LN2)];\n",
    "  G_NM3 = (1/RN/LN3)*[1 0;0 LN3*csch(LN3)];\n",
    "  G0_NM1 = (1/RN)*[0 0;0 coth(LN1)-csch(LN1)];\n",
    "  G0_NM2 = (1/RN)*[0 0;0 coth(LN2)-csch(LN2)];\n",
    "  G0_NM3 = (1/RN)*[0 0;0 coth(LN3)-csch(LN3)];\n",
    "\n",
    "  % Tunnel Barrier\n",
    "  G_TB1=(1/RT1)*[1 PT1;PT1 1];\n",
    "  G_TB2=(1/RT2)*[1 PT2;PT2 1];\n",
    "\n",
    "  % Conductance matrix from KCL\n",
    "  G = [G0_FM1+G_FM1 -G_FM1 Z Z Z Z Z;\n",
    "    -G_FM1 G0_FM1+G_FM1+G_TB1 Z Z -G_TB1 Z Z;\n",
    "    Z Z G0_FM2+G_FM2 -G_FM2 Z Z Z;\n",
    "    Z Z -G_FM2 G0_FM2+G_FM2+G_TB2 Z -G_TB2 Z;\n",
    "    Z -G_TB1 Z Z G_NM1+G0_NM1+G0_NM2+G_NM2+G_TB1 -G_NM2 Z;\n",
    "    Z Z Z -G_TB2 -G_NM2 G_NM3+G0_NM2+G0_NM3+G_NM2+G_TB2 -G_NM3;\n",
    "    Z Z Z Z Z -G_NM3 G_NM3+G0_NM3];\n",
    "\n",
    "  % SPICE Solution\n",
    "  C = [1; PF1; zeros(12,1)];% Terminal currents\n",
    "  V=G\\C; V=reshape(V,2,7);% Terminal voltages\n",
    "  Vout(ii)=V(1,3)-V(1,7);% Output voltage\n",
    "\n",
    "  % Analytical Solution\n",
    "  RF1=RF; RF2=RF;\n",
    "  Numer = 2*RN*exp(-LN2)*(PT1*RT1/RN/(1-PT1^2) + PF1*RF1/RN/(1-PF1^2))...\n",
    "    *(PT2*RT2/RN/(1-PT2^2) + PF2*RF2/RN/(1-PF2^2));\n",
    "  denom = (1+ 2*RT1/RN/(1-PT1^2) + 2*RF1/RN/(1-PF1^2))...\n",
    "    *(1+ 2*RT2/RN/(1-PT2^2) + 2*RF2/RN/(1-PF2^2)) - exp(-LN2);\n",
    "  Rnon_local(ii)=Numer/denom;\n",
    "end\n",
    "\n",
    "figure;\n",
    "subplot(1,2,1); plot(RT, Vout/C(1)); ylabel(['V_{out}']); xlabel(['log(R_{TB})']); title(['V_{out}/I_{in} vs R_{TB}  (spice solution)']); grid on;\n",
    "subplot(1,2,2); plot(RT, Rnon_local); ylabel(['R_{NL}']); xlabel(['log(R_{TB})']); title(['R_{NL} vs R_{TB} (analytical solution)']); grid on;\n",
    "sgtitle(['R_{NL} Characteristics for NLSV (I_{in} = 1A)']);\n"
   ]
  }
 ],
 "metadata": {
  "kernelspec": {
   "display_name": "Python 3 (ipykernel)",
   "language": "python",
   "name": "python3"
  },
  "language_info": {
   "codemirror_mode": {
    "name": "ipython",
    "version": 3
   },
   "file_extension": ".py",
   "mimetype": "text/x-python",
   "name": "python",
   "nbconvert_exporter": "python",
   "pygments_lexer": "ipython3",
   "version": "3.11.0"
  }
 },
 "nbformat": 4,
 "nbformat_minor": 5
}
