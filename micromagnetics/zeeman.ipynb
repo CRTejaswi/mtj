{
 "cells": [
  {
   "cell_type": "markdown",
   "metadata": {},
   "source": [
    "# Zeeman"
   ]
  },
  {
   "cell_type": "code",
   "execution_count": 1,
   "metadata": {},
   "outputs": [
    {
     "name": "stdout",
     "output_type": "stream",
     "text": [
      "Average m: (0.029446643985358817, 0.1980192257812389, 0.092294633582277)\n",
      "Running OOMMF (ExeOOMMFRunner) [2021/06/12 21:58]... (1.4 s)\n",
      "Average m: (0.0010556290137231869, 7.046444652827667e-05, 0.999968505994923)\n"
     ]
    },
    {
     "data": {
      "application/vnd.jupyter.widget-view+json": {
       "model_id": "c90e490bb23449459a8e2d355dfd0ea0",
       "version_major": 2,
       "version_minor": 0
      },
      "text/plain": [
       "Plot(antialias=3, axes=['x', 'y', 'z'], axes_helper=1.0, background_color=16777215, camera=[2, -3, 0.2, 0.0, 0…"
      ]
     },
     "metadata": {},
     "output_type": "display_data"
    },
    {
     "data": {
      "application/vnd.jupyter.widget-view+json": {
       "model_id": "93af54c02dcd4d8caa21fa74ff99cb7b",
       "version_major": 2,
       "version_minor": 0
      },
      "text/plain": [
       "Output()"
      ]
     },
     "metadata": {},
     "output_type": "display_data"
    }
   ],
   "source": [
    "import os\n",
    "import k3d\n",
    "import random\n",
    "import discretisedfield as df\n",
    "import micromagneticmodel as mm\n",
    "import micromagneticdata as md\n",
    "import oommfc as oc\n",
    "\n",
    "p1 = (-15e-9, 0, 0)\n",
    "p2 = (15e-9, 1e-9, 1e-9)\n",
    "n = (20, 1, 1)\n",
    "\n",
    "region = df.Region(p1=p1, p2=p2)\n",
    "mesh = df.Mesh(region=region, n=n)\n",
    "\n",
    "Ms = 1e6\n",
    "H = (0, 0, 1e6)\n",
    "\n",
    "random.seed(2)\n",
    "def value_random(point):\n",
    "    m = [random.random()*2 - 1 for i in range(3)]\n",
    "    return m\n",
    "\n",
    "system = mm.System(name='zeeman')\n",
    "system.energy = mm.Zeeman(H=H)\n",
    "system.dynamics = mm.Damping(alpha=0.5)  # No precession to make animations faster\n",
    "system.m = df.Field(mesh, dim=3, value=value_random, norm=Ms)\n",
    "\n",
    "print(f'Average m: {system.m.orientation.average}')\n",
    "\n",
    "try:\n",
    "    oc.delete(system)\n",
    "except FileNotFoundError:\n",
    "    pass\n",
    "\n",
    "td = oc.TimeDriver()\n",
    "td.drive(system, t=70e-12, n=10)  # The aim is to have 10s videos n=10*25=250\n",
    "\n",
    "print(f'Average m: {system.m.orientation.average}')\n",
    "\n",
    "system.m.k3d_vector()"
   ]
  },
  {
   "cell_type": "code",
   "execution_count": 2,
   "metadata": {},
   "outputs": [
    {
     "data": {
      "text/html": [
       "<div>\n",
       "<style scoped>\n",
       "    .dataframe tbody tr th:only-of-type {\n",
       "        vertical-align: middle;\n",
       "    }\n",
       "\n",
       "    .dataframe tbody tr th {\n",
       "        vertical-align: top;\n",
       "    }\n",
       "\n",
       "    .dataframe thead th {\n",
       "        text-align: right;\n",
       "    }\n",
       "</style>\n",
       "<table border=\"1\" class=\"dataframe\">\n",
       "  <thead>\n",
       "    <tr style=\"text-align: right;\">\n",
       "      <th></th>\n",
       "      <th>drive_number</th>\n",
       "      <th>date</th>\n",
       "      <th>time</th>\n",
       "      <th>driver</th>\n",
       "      <th>t</th>\n",
       "      <th>n</th>\n",
       "    </tr>\n",
       "  </thead>\n",
       "  <tbody>\n",
       "    <tr>\n",
       "      <th>0</th>\n",
       "      <td>0</td>\n",
       "      <td>2021-06-12</td>\n",
       "      <td>21:58:37</td>\n",
       "      <td>TimeDriver</td>\n",
       "      <td>7.000000e-11</td>\n",
       "      <td>10</td>\n",
       "    </tr>\n",
       "  </tbody>\n",
       "</table>\n",
       "</div>"
      ],
      "text/plain": [
       "   drive_number        date      time      driver             t   n\n",
       "0             0  2021-06-12  21:58:37  TimeDriver  7.000000e-11  10"
      ]
     },
     "execution_count": 2,
     "metadata": {},
     "output_type": "execute_result"
    }
   ],
   "source": [
    "import micromagneticdata as md\n",
    "data=md.Data(system.name)\n",
    "data.info"
   ]
  },
  {
   "cell_type": "markdown",
   "metadata": {},
   "source": [
    "## The following method requires additional installation of the celluloid package in the ubermag environment"
   ]
  },
  {
   "cell_type": "code",
   "execution_count": 10,
   "metadata": {},
   "outputs": [
    {
     "name": "stderr",
     "output_type": "stream",
     "text": [
      "MovieWriter PillowWriter unavailable; using Pillow instead.\n"
     ]
    },
    {
     "data": {
      "image/png": "[encoded data removed]",
      "text/plain": [
       "<Figure size 576x432 with 1 Axes>"
      ]
     },
     "metadata": {},
     "output_type": "display_data"
    }
   ],
   "source": [
    "from matplotlib import pyplot as plt\n",
    "from celluloid import Camera\n",
    "import numpy as np\n",
    "\n",
    "\n",
    "# create figure object\n",
    "fig = plt.figure()\n",
    "# load axis box\n",
    "\n",
    "ax = plt.axes()\n",
    "# set axis limit\n",
    "camera = Camera(fig)\n",
    "for i in range(10):\n",
    "    data[0][i].z.plane(z=0.5e-9).mpl_scalar(ax=ax,cmap='RdBu',filter_field=data[0][i].norm,colorbar=False,interpolation='bilinear',animated=True)\n",
    "    camera.snap()\n",
    "animation = camera.animate()\n",
    "\n",
    "animation.save('test_1.gif', writer='PillowWriter', fps=5)"
   ]
  },
  {
   "cell_type": "markdown",
   "metadata": {},
   "source": [
    "## The following methods can directly use matplotlib. It should be noted that frames cannot be greater than the n value in data[xx][n]."
   ]
  },
  {
   "cell_type": "code",
   "execution_count": 11,
   "metadata": {},
   "outputs": [
    {
     "name": "stderr",
     "output_type": "stream",
     "text": [
      "MovieWriter PillowWriter unavailable; using Pillow instead.\n"
     ]
    },
    {
     "data": {
      "image/png": "[encoded data removed]",
      "text/plain": [
       "<Figure size 1600x1200 with 1 Axes>"
      ]
     },
     "metadata": {},
     "output_type": "display_data"
    }
   ],
   "source": [
    "import numpy as np\n",
    "import pandas as pd \n",
    "from matplotlib.animation import FuncAnimation\n",
    "import numpy as np\n",
    "import matplotlib.pyplot as plt\n",
    "import matplotlib.animation as animation\n",
    "from celluloid import Camera\n",
    "fig = plt.figure(dpi=200)\n",
    "ax = plt.axes()\n",
    "def update1(i):\n",
    "    t1=data[0][i].z.plane(z=0.5e-9).mpl_scalar(ax=ax,cmap='RdBu',filter_field=data[0][i].norm,colorbar=False,interpolation='bilinear',animated=True)\n",
    "    return t1\n",
    "ani = animation.FuncAnimation(fig, update1,frames=5, # The number of frames to generate the dynamic graph\n",
    "                    interval=1000,  # Inter frame time interval, in ms\n",
    "                    blit=False, # Make the output display faster\n",
    "                    repeat=True)\n",
    "\n",
    "ani.save(\"test_2.gif\",writer='PillowWriter', fps=15)"
   ]
  },
  {
   "cell_type": "code",
   "execution_count": 2,
   "metadata": {
    "scrolled": true
   },
   "outputs": [
    {
     "data": {
      "application/vnd.jupyter.widget-view+json": {
       "model_id": "d885203218ae4d5c861e159f62ddfbc7",
       "version_major": 2,
       "version_minor": 0
      },
      "text/plain": [
       "interactive(children=(BoundedIntText(value=0, description='drive', max=0), IntSlider(value=0, continuous_updat…"
      ]
     },
     "metadata": {},
     "output_type": "display_data"
    },
    {
     "data": {
      "application/vnd.jupyter.widget-view+json": {
       "model_id": "da6005aa655c4c0eb9e38fc1ad6eb258",
       "version_major": 2,
       "version_minor": 0
      },
      "text/plain": [
       "Output()"
      ]
     },
     "metadata": {},
     "output_type": "display_data"
    }
   ],
   "source": [
    "data = md.Data(name=system.name)\n",
    "drive = data[0]\n",
    "plot = k3d.plot()\n",
    "\n",
    "\n",
    "@df.interact(drive_number=data.selector(),\n",
    "             timestep=drive.slider(continuous_update=False))\n",
    "def my_plot(drive_number, timestep):\n",
    "       data[drive_number][timestep].orientation.k3d_vector(plot=plot, interactive_field=system.m, head_size=3,points_size=0.5, points=False)\n",
    "plot.display()\n"
   ]
  },
  {
   "cell_type": "code",
   "execution_count": 3,
   "metadata": {},
   "outputs": [],
   "source": [
    "data[0].ovf2vtk()"
   ]
  },
  {
   "cell_type": "code",
   "execution_count": null,
   "metadata": {},
   "outputs": [],
   "source": []
  }
 ],
 "metadata": {
  "kernelspec": {
   "display_name": "Python 3",
   "language": "python",
   "name": "python3"
  },
  "language_info": {
   "codemirror_mode": {
    "name": "ipython",
    "version": 3
   },
   "file_extension": ".py",
   "mimetype": "text/x-python",
   "name": "python",
   "nbconvert_exporter": "python",
   "pygments_lexer": "ipython3",
   "version": "3.8.6"
  }
 },
 "nbformat": 4,
 "nbformat_minor": 4
}
